{
 "cells": [
  {
   "cell_type": "markdown",
   "id": "56c828a3",
   "metadata": {
    "pycharm": {
     "name": "#%% md\n"
    },
    "tags": []
   },
   "source": [
    "# Propositional Logic\n",
    "\n",
    "In this notebook, we will demonstrate the task of logical reasoning to evaluate and inspect an LNN graph for the simple propositional scenario.\n",
    "\n",
    "### Learning Outcomes Of This Tutorial\n",
    "\n",
    "1. Introduction to Propositional Logic\n",
    "    1. Propositions\n",
    "    1. Facts\n",
    "    2. Operators\n",
    "2. Logical Inference using LNNs\n",
    "    1. Inference\n",
    "    2. Upward Inference\n",
    "    3. Downward Inference"
   ]
  },
  {
   "cell_type": "markdown",
   "id": "1012b392",
   "metadata": {
    "pycharm": {
     "name": "#%% md\n"
    }
   },
   "source": [
    "## Introduction To Propositional Logic"
   ]
  },
  {
   "cell_type": "markdown",
   "id": "10bd896d",
   "metadata": {
    "pycharm": {
     "name": "#%% md\n"
    }
   },
   "source": [
    "<a href=\"https://en.wikipedia.org/wiki/Propositional_calculus\">Propositional logic</a> is the study of how statements, arguments and their associated truths are combined and reasoned over. It is the simplest instantiation of a logic, whereby a single truth value is associated with each statement. Most often, these truths are classical, i.e., they are restricted to having a boolean value of `True` or `False`. Each statement can be represented by a single node in a graph, also called a proposition. These propositions may be connected via operators, i.e., a symbol that has a predefined (logical) behaviour when combining the operand propositions with one another. The behaviour of such operators enforces [compositionality](https://en.wikipedia.org/wiki/Principle_of_compositionality), thereby allowing us to specify individual statements, build them up into more complex statements and reason about them as a cohesive [theory](https://en.wikipedia.org/wiki/Theory_(mathematical_logic)).\n",
    "\n",
    "While there are many [theories of logic](https://en.wikipedia.org/wiki/Logic) itself, the behaviour of simple classical propositional logic is universally agreed upon and is best described by looking at the [truth tables](https://en.wikipedia.org/wiki/Truth_table) of logic gates.\n",
    "\n",
    "The construction of propositional logic systems provides intuitive methods for solving classical AI problems with reasoning. In this section, we will introduce propositional logic and the components that allow us to reason about logical statements using an LNN."
   ]
  },
  {
   "cell_type": "markdown",
   "id": "4ae10eef",
   "metadata": {
    "pycharm": {
     "name": "#%% md\n"
    }
   },
   "source": [
    "### Proposition"
   ]
  },
  {
   "cell_type": "markdown",
   "id": "06eb9746",
   "metadata": {
    "pycharm": {
     "name": "#%% md\n"
    }
   },
   "source": [
    "A statement, in propositional logic, is any declarative sentence that allows it to have a truth value. In simple classical logic, those values are either `True` or `False`. These statements, also called <a href=\"https://en.wikipedia.org/wiki/Proposition\">propositions</a>, may comprise of a sequence of words that relate to the context of operation. These sequences of words may have semantics to the knowledge designer, but not necessarily to the reasoner. Instead, the reason process treats these words as a single atomic statement that can be combined and manipulated to make inferences.\n",
    "\n",
    "The following sentence is an example of a declarative statement: \n",
    "> <i>Messi plays for the Argentina National Football Club (AFC)</i>\n",
    "\n",
    "The sentence is comprised of two propositions (each with an associated truth value), which can be further combined into a more complex statement. For now, let's just focus on the propositions that make up the components of the statement:\n",
    "1. Messi\n",
    "1. Argentina National Football Club (AFC)\n",
    "\n",
    "While a reasoning engine may not have any understanding or semantics about what the propositions refer to in the real-world, they can at least create atomic containers for these objects and reason about their interaction in more complex formulae.\n",
    "\n",
    "The LNN API allows us to define such propositions as the foundations of future logical expressions:"
   ]
  },
  {
   "cell_type": "code",
   "execution_count": 1,
   "id": "5343aab6",
   "metadata": {
    "collapsed": false,
    "jupyter": {
     "outputs_hidden": false
    },
    "pycharm": {
     "name": "#%%\n"
    }
   },
   "outputs": [],
   "source": [
    "from lnn import Proposition\n",
    "\n",
    "Messi = Proposition(\"Messi\")\n",
    "AFC = Proposition(\"Argentina National Football Club(AFC)\")"
   ]
  },
  {
   "cell_type": "markdown",
   "id": "1adf1366",
   "metadata": {
    "pycharm": {
     "name": "#%% md\n"
    }
   },
   "source": [
    "> Alternatively, we could have specified the entire statement `\"Messi plays for the Argentina National Football Club (AFC)\"` as a single proposition, a decision that is entirely up to you the knowledge base designer. Typically, _atomic_ statements cannot be broken into further parts. The semantics of the [term](https://en.wikipedia.org/wiki/Term_(logic)) inside this atomic container (e.g. `\"Messi\"`), is entirely up to you. However, this atomic proposition will only have a single truth value associated with it.\n"
   ]
  },
  {
   "cell_type": "markdown",
   "id": "6cbc5018",
   "metadata": {
    "pycharm": {
     "name": "#%% md\n"
    }
   },
   "source": [
    "### Facts\n",
    "\n",
    "\n",
    "In a typical database scenario, any stated proposition is assumed to have the truth value of `True`. So simply observing the proposition associates an appropriate truth.\n",
    "\n",
    "However, an LNN requires that these truths be explicitly represented - in this case as classical facts, using the `Fact` keyword. We will see in later notebooks how input truths are extended to include uncertainties of beliefs, which operate outside of the classical range."
   ]
  },
  {
   "cell_type": "code",
   "execution_count": 2,
   "id": "14db0177",
   "metadata": {
    "collapsed": false,
    "jupyter": {
     "outputs_hidden": false
    },
    "pycharm": {
     "name": "#%%\n"
    }
   },
   "outputs": [],
   "source": [
    "from lnn import Fact\n",
    "\n",
    "Messi.add_data(Fact.TRUE)\n",
    "AFC.add_data(Fact.TRUE)"
   ]
  },
  {
   "cell_type": "markdown",
   "id": "a9a4f48e",
   "metadata": {
    "pycharm": {
     "name": "#%% md\n"
    }
   },
   "source": [
    "If we wanted to represent negations of facts, the LNN can add data explicitly as `Fact.FALSE`. In a database setting, this would require the introduction of a negation operator, however, the LNN can represent both."
   ]
  },
  {
   "cell_type": "markdown",
   "id": "04f7f458",
   "metadata": {
    "pycharm": {
     "name": "#%% md\n"
    }
   },
   "source": [
    "### Operators"
   ]
  },
  {
   "cell_type": "markdown",
   "id": "aff52703",
   "metadata": {
    "pycharm": {
     "name": "#%% md\n"
    }
   },
   "source": [
    "Propositional operators are logical constructs that allow us to define relationships on or between propositions, restricting their behaviour according to a predefined design. These operators can be compositionally combined to form compound statements, each having a single associated truth value. Each operator has a different output behaviour depending on the truths of the input operands, as described by the respective [truth tables](https://en.wikipedia.org/wiki/Truth_table).\n",
    "\n",
    "The following statement uses the logical conjunction (`And` gate) as an expression that connects multiple inputs with one another:\n",
    "\n",
    "\\begin{align}\n",
    "\\dfrac{\\text{Messi is born in Argentina}}{\\text{Proposition 1}} \\quad \\underset{\\text{And}}{\\land}  \\quad \\dfrac{\\text{Messi plays for the Argentina National Football Club}}{\\text{Proposition 2}}\n",
    "\\end{align}\n",
    "\n",
    "The behaviour of a classical logical conjunction is such that it outputs a `True` value if all of the operands are True and `False` otherwise. This relationship can easily be seen in a truth table:\n",
    "\n",
    "<center>\n",
    "    <figure>\n",
    "        <img src=\"./img/0/conjunction.png\" width=\"320\" />\n",
    "    <figcaption>Logical Conjunction Truth Table</figcaption>\n",
    " </figure>\n",
    "</center>\n",
    "\n",
    "Below, we show how to use the LNN to form connectives using propositions as operands."
   ]
  },
  {
   "cell_type": "code",
   "execution_count": 3,
   "id": "01ff227a",
   "metadata": {
    "collapsed": false,
    "jupyter": {
     "outputs_hidden": false
    },
    "pycharm": {
     "name": "#%%\n"
    }
   },
   "outputs": [],
   "source": [
    "from lnn import And, Fact\n",
    "\n",
    "# Rules\n",
    "BornInArgentina = Proposition(\"Messi is born in Argentina\")\n",
    "PlaysForAFC = Proposition(\"Messi plays for the Argentina National Football Club\")\n",
    "AND = And(BornInArgentina, PlaysForAFC)\n",
    "\n",
    "# Data \n",
    "PlaysForAFC.add_data(Fact.TRUE)\n",
    "BornInArgentina.add_data(Fact.TRUE)"
   ]
  },
  {
   "cell_type": "markdown",
   "id": "2b3d7a67",
   "metadata": {
    "pycharm": {
     "name": "#%% md\n"
    }
   },
   "source": [
    "Typically a connective would be binary, but LNNs allow for n-ary connectives, i.e., they accept an arbitrary number of inputs to the connective. Unary connectives such as negations (i.e. a `Not` operator) accept only one input operand whereas conjunctions and disjunctions (i.e. `And` and `Or` connectives) are _n-ary_, accepting any number of inputs. \n",
    "\n",
    "|Logical Operator| LNN API | Number of inputs (arity) | Logical Symbol |\n",
    "| :-- | :-- | :--: | :--: |\n",
    "| [Negation](https://en.wikipedia.org/wiki/Negation) | `Not` | unary | `¬`/`~` |\n",
    "| [Implication](https://en.wikipedia.org/wiki/Material_conditional) | `Implies` | binary | `→` |\n",
    "| [Bidirectional Equivalence](https://en.wikipedia.org/wiki/If_and_only_if) | `Equivalent` | binary | `↔` |\n",
    "| [Conjunction](https://en.wikipedia.org/wiki/Logical_conjunction) | `And` | n-ary | `∧` |\n",
    "| [Disjunction](https://en.wikipedia.org/wiki/Logical_disjunction) | `Or` | n-ary | `∨` |\n",
    "\n",
    "Operators can also accept compound formulae as inputs thus forming more complex statements. \n",
    "\n",
    "LNNs allow individual statements to be specified, built up together into more complex statements and combined together into a \n",
    "of knowledge."
   ]
  },
  {
   "cell_type": "markdown",
   "id": "357c45b7",
   "metadata": {
    "pycharm": {
     "name": "#%% md\n"
    }
   },
   "source": [
    "### Graph Representation\n",
    "\n",
    "LNNs represent the given theory in a graphical structure, using nodes and edges to indicate objects that are connected to one another. Each leaf-level node in the graph represents an atomic formula (propositions or predicates), in contrast to parent nodes which operate over (or combine) operands via logical gates.\n",
    "\n",
    "When representing the football example using an LNN graph we get:\n",
    "\n",
    "<center>\n",
    "    <figure>\n",
    "        <img src=\"./img/0/graph.png\" width=\"75%\" />\n",
    "    <figcaption>Figure 1: LNN Graph</figcaption>\n",
    " </figure>\n",
    "</center>\n",
    "\n",
    "In future notebooks on explainability, we'll also take you through the plotting functionality and describe how this graph can assist with interpreting how an LNN reasons.\n",
    "\n",
    "This next section will discuss how LNNs perform logical inference to compute truth values for related propositions."
   ]
  },
  {
   "cell_type": "markdown",
   "id": "e71888fc-c23e-4310-9075-7defde65f144",
   "metadata": {
    "pycharm": {
     "name": "#%% md\n"
    }
   },
   "source": [
    "## Logical Inference with LNNs\n",
    "\n",
    "### Inference\n",
    "\n",
    "[Inference](https://en.wikipedia.org/wiki/Inference) refers to the ability to reason about truth values as a [deductive system](https://en.wikipedia.org/wiki/Deductive_reasoning). In LNNs, reasoning is performed as omni-directional inference, i.e., upward and downward inference steps that are used to evaluate the truth of operators or operands respectively.\n",
    "\n",
    "### Upward Inference\n",
    "\n",
    "Upward inference refers to the evaluation of __an operator__ or logical connective given the truth of input operands. In the classical interpretation, these symbolic operators behave as logical gates, restricting the output truth values according to properties defined by their truth tables.\n",
    "\n",
    "<center>\n",
    "    <figure>\n",
    "    <img src=\"./img/0/Upward.png\" id=\"fig2\" alt=\"evaluate\" width=\"400\"/>\n",
    "    <figcaption>Figure 2: Upward Inference</figcaption>\n",
    " </figure>\n",
    "</center>\n",
    "\n",
    "Below we demonstrate the simple syntax for evaluating an operator given facts from its operands."
   ]
  },
  {
   "cell_type": "code",
   "execution_count": 4,
   "id": "f06f247d",
   "metadata": {
    "collapsed": false,
    "jupyter": {
     "outputs_hidden": false
    },
    "pycharm": {
     "name": "#%%\n"
    }
   },
   "outputs": [
    {
     "name": "stdout",
     "output_type": "stream",
     "text": [
      "OPEN And: (AFC ∧ Born in Argentina)                         TRUE (1.0, 1.0)\n",
      "\n"
     ]
    }
   ],
   "source": [
    "from lnn import And, Fact\n",
    "\n",
    "# Rules\n",
    "AFC = Proposition(\"AFC\")\n",
    "BornInArgentina = Proposition(\"Born in Argentina\")\n",
    "AND = And(AFC, BornInArgentina)\n",
    "\n",
    "# Data \n",
    "AFC.add_data(Fact.TRUE)\n",
    "BornInArgentina.add_data(Fact.TRUE)\n",
    "\n",
    "# Reasoning\n",
    "AND.upward()\n",
    "AND.print()"
   ]
  },
  {
   "cell_type": "markdown",
   "id": "3171dddf",
   "metadata": {
    "pycharm": {
     "name": "#%% md\n"
    }
   },
   "source": [
    "Calling a particular node inference, e.g. `node.upward()`, performs the following sequential steps:\n",
    "1. Grounding management\n",
    "1. Evaluating the truth of the node in respect to the inference direction\n",
    "1. Proposing, aggregating and updating any new information \n",
    "\n",
    "> The above points will all be discussed in more depth in their respective notebooks. \n",
    "\n",
    "In the meantime, we can see that the resulting upward inference on the logical conjunction outputs a `TRUE` truth value. Given that all of the input truths are also `TRUE`, this conforms to the interpretation of a classical conjunction table.\n",
    "\n",
    "> As a side note, this functionality also demonstrates how per-node reasoning can be performed with greater fidelity in controlling the neural computational behaviour, which expands into domains such as search heuristics and FOL tractability.\n",
    "\n",
    "> Furthermore, we note that the `TRUE` output is accompanied by a tuple representation, i.e (1.0 1.0). This is called a _bounds_ representation and allows you to extend the expression of truth as real-numbers ranging between 0 and 1. The next notebook will explain this concept in greater detail. "
   ]
  },
  {
   "cell_type": "markdown",
   "id": "7e26aa9f-b1f3-44ac-b338-b5ce90a12102",
   "metadata": {
    "pycharm": {
     "name": "#%% md\n"
    }
   },
   "source": [
    "### Downward Inference\n",
    "\n",
    "Downward inference refers to the evaluation of __an operand__ given the truth of the operator and the remaining operands. \n",
    "\n",
    "> In some cases, the truth of the remaining operands are not strictly necessary to perform a downward inference step. However, these scenarios are most often restricted to the classical scenario. For example, a downward evaluation of a `True` conjunction results in __all operands__ being `True` regardless of the truths of the other operands - similarly for a `False` disjunction.\n",
    "\n",
    "This feature allows LNNs to perform critical logical deductions such as [Modus Ponens](https://en.wikipedia.org/wiki/Modus_ponens).\n",
    "\n",
    "<center>\n",
    "    <figure>\n",
    "    <img src=\"img/0/Downward.png\" id=\"fig2\" alt=\"evaluate\" width=\"400\" />\n",
    "    <figcaption>Figure 3: Downward Inference</figcaption>\n",
    " </figure>\n",
    "</center>\n",
    "\n",
    "Below, we use the LNN API to reason about the following statement with an implication.\n",
    "\n",
    "\\begin{align}\n",
    "\\dfrac{\\text{Messi is born in Argentina}}{\\text{Proposition 1}} \\quad  \\underset{\\text{Implies}}{\\rightarrow} \\quad \\dfrac{\\text{speaks Spanish}}{\\text{Proposition 2}}\n",
    "\\end{align}\n"
   ]
  },
  {
   "cell_type": "code",
   "execution_count": 5,
   "id": "6f7668d3",
   "metadata": {
    "collapsed": false,
    "jupyter": {
     "outputs_hidden": false
    },
    "pycharm": {
     "name": "#%% code\n"
    }
   },
   "outputs": [
    {
     "name": "stdout",
     "output_type": "stream",
     "text": [
      "OPEN Proposition: Speaks Spanish                            TRUE (1.0, 1.0)\n",
      "\n"
     ]
    }
   ],
   "source": [
    "from lnn import Implies\n",
    "\n",
    "# Rules\n",
    "BornInArgentina = Proposition(\"Born in Argentina\")\n",
    "Speaks_Spanish = Proposition(\"Speaks Spanish\")\n",
    "IMPLIES = Implies(BornInArgentina, Speaks_Spanish)\n",
    "\n",
    "# Data \n",
    "BornInArgentina.add_data(Fact.TRUE)\n",
    "IMPLIES.add_data(Fact.TRUE)\n",
    "\n",
    "# Reasoning\n",
    "IMPLIES.downward()\n",
    "Speaks_Spanish.print()"
   ]
  },
  {
   "cell_type": "markdown",
   "id": "bfbd8642",
   "metadata": {
    "pycharm": {
     "name": "#%% md\n"
    }
   },
   "source": [
    "In the above _modus ponens_ example, the truth of the implication and the _antecedent_ (left-hand side `BornInArgentina` operand) has a known truth (`True`), whereas the truth of the _consequent_ (right-hand side `Speaks_Spanish` operand) is missing its propositional truth. This demonstrates how LNN's deduce logically consistent facts in line with an [Automated Theorem Prover](https://en.wikipedia.org/wiki/Automated_theorem_proving)."
   ]
  },
  {
   "cell_type": "markdown",
   "id": "48f4a2e0",
   "metadata": {
    "pycharm": {
     "name": "#%% md\n"
    }
   },
   "source": [
    "### In Summary\n",
    "\n",
    "In this outcome we learned the following:\n",
    "- How to construct a simple propositional formula.\n",
    "- Representing classical, boolean data as facts.\n",
    "- Inserting data into propositional nodes.\n",
    "- Evaluating the truth of logical operators using upward inference.\n",
    "- Evaluating the truth of operand nodes using downward inference.\n",
    "\n",
    "Congrats on completing the first example 🎉. \n",
    "Now let's move on to working with predicate logic, i.e., tables of propositionalised data.\n",
    "\n",
    "[<img src=\"./img/next.png\" width=\"160\" alt=\"Next Tutorial: Propositional Bounds\" />](./1.%20Propositional%20Bounds.ipynb)"
   ]
  }
 ],
 "metadata": {
  "kernelspec": {
   "display_name": "Python 3.9.7 ('lnn')",
   "language": "python",
   "name": "python3"
  },
  "language_info": {
   "codemirror_mode": {
    "name": "ipython",
    "version": 3
   },
   "file_extension": ".py",
   "mimetype": "text/x-python",
   "name": "python",
   "nbconvert_exporter": "python",
   "pygments_lexer": "ipython3",
   "version": "3.9.7"
  },
  "vscode": {
   "interpreter": {
    "hash": "0a0751c70131a750d0f94233736548a18518a837c622af4489d72b7132d84110"
   }
  }
 },
 "nbformat": 4,
 "nbformat_minor": 5
}
