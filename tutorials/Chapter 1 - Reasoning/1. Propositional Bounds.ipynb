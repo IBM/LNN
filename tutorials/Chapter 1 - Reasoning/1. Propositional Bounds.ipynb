{
 "cells": [
  {
   "cell_type": "markdown",
   "id": "bfd7e836-011f-482c-9c03-340dd040c9fc",
   "metadata": {
    "pycharm": {
     "name": "#%% md\n"
    },
    "tags": []
   },
   "source": [
    "# Propositional Bounds\n",
    "\n",
    "In this notebook, we will extend the representation of truth values to improve the expressiveness of logic. These extensions allow LNNs to handle a greater amount of ambiguity and uncertainty of beliefs otherwise present in logical reasoning systems. \n",
    "\n",
    "### Learning Outcomes Of This Tutorial\n",
    "\n",
    "1. Bounds On Beliefs\n",
    "    1. Extending Classical Truths\n",
    "    2. Bounds\n",
    "    3. Inference with Bounds"
   ]
  },
  {
   "cell_type": "markdown",
   "id": "bd477367-8f19-4381-8021-496465e1f490",
   "metadata": {
    "pycharm": {
     "name": "#%% md\n"
    }
   },
   "source": [
    "## Bounds On Beliefs\n",
    "\n",
    "### Extending Classical Truths\n",
    "\n",
    "In [discrete mathematics](https://en.wikipedia.org/wiki/Discrete_mathematics#Logic), logical systems reason using a finite set of truth values, namely <strong style=color:#0e6027>TRUE</strong> or <strong style=color:#ba4e00>FALSE</strong>. LNNs extend the expressiveness of the logic by allowing truth values to operate outside of the classical `{0, 1}` range as follows:\n",
    "\n",
    "&emsp;i. &emsp;truths can be any intermediate truth value between `[0, 1]`, </br>\n",
    "&emsp;ii.&emsp;truths can be bounded by a range of real-values.\n",
    "\n",
    "These two extensions allow for handling (_i._) greater uncertainty and (_ii._) greater ambiguity of truth values. Uncertainty pertains to a truth value that is neither _True_ nor _False_, but could instead be any indefinite value between $[0, 1]$. It is achieved by incorporating the theory of [real-valued logics](https://en.wikipedia.org/wiki/Fuzzy_logic) into operator calculations, which will be expanded on in later notebooks. Ambiguity pertains to doubt in the semantics under the current context, thereby catering to more than one interpretation. This extends the representation of intermediate values to operate over a range, i.e., by keeping track of lower and upper bounds of real-values, represented as `[L, U]`.\n",
    "\n",
    "In LNN we refer to the representation of truth values as bounds on beliefs, or bounds for short. Due to their flexibility, the semantics of bounds cannot be interpreted as probabilities, but should instead be perceived as _beliefs_. That is, the extent to which a contextual application of the knowledge believes a particular symbol to be [truthful](https://en.wikipedia.org/wiki/Truth).\n",
    "\n",
    "Previously in the [Propositional Logic](./0.%20Propositional%20Logic.ipynb) notebook, we learned how to define propositions and their corresponding truths using `Facts`. In this notebook, we will expand on those ideas and demonstrate how to perform logical inference with bounds. \n",
    "\n",
    "Recall the LNN API to define facts:\n",
    "\n",
    "<center>\n",
    "    <figure>\n",
    "    <img src=\"./img/1/messi.png\" width=\"280\" />\n",
    "        <figcaption>Figure 1. Defining a proposition with a True truth value of assignment.</figcaption>\n",
    " </figure>\n",
    "</center>"
   ]
  },
  {
   "cell_type": "code",
   "execution_count": 1,
   "id": "6d3593fb-99c4-466b-b9cd-a13cee675bc7",
   "metadata": {},
   "outputs": [
    {
     "name": "stdout",
     "output_type": "stream",
     "text": [
      "OPEN Proposition: Messi                                     TRUE (1.0, 1.0)\n",
      "\n"
     ]
    }
   ],
   "source": [
    "from lnn import Proposition, Fact\n",
    "\n",
    "Messi = Proposition(\"Messi\")\n",
    "Messi.add_data(Fact.TRUE)\n",
    "Messi.print()"
   ]
  },
  {
   "cell_type": "markdown",
   "id": "f4e241dd-1211-4946-9c01-fd031a769664",
   "metadata": {
    "tags": []
   },
   "source": [
    "### Bounds\n",
    "\n",
    "Bounds are a pairwise representation of a truth range defined as a tuple of lower and upper real-values. At their extrema, they explictly encode classical truths, <strong style=color:#0e6027>TRUE</strong> or <strong style=color:#ba4e00>FALSE</strong>, or any real-value in between the $[0, 1]$ range, i.e., <strong style=color:#697077>UNKNOWNs</strong>.\n",
    "\n",
    "<center>\n",
    "    <figure>\n",
    "    <img src=\"./img/1/bounds.png\" width=\"280\" />\n",
    "        <figcaption>Figure 2. Proposition with a bound representation of a truth value</figcaption>\n",
    " </figure>\n",
    "</center>\n",
    "\n",
    "Below, we show the explicit representation of `Facts` using bounds with real-numbers.\n",
    "\n",
    "| | \"True\" | \"False\" | \"Unknown\" |\n",
    "| :-- | :--: | :--: | :--: |\n",
    "| Fact | TRUE | FALSE | UNKNOWN |\n",
    "| Bounds | `(1.0, 1.0)` | `(0.0, 0.0)` | `(0.0, 1.0)` | \n",
    "\n",
    "In the LNN, we use the all-caps notation of facts to indicate that the representation is a bounded representation, i.e., _True = 1._ and _TRUE = [1., 1.]_\n",
    "\n",
    "We can also visualize the bounded representation of truths as follows:\n",
    "\n",
    "<center>\n",
    "    <figure>\n",
    "    <img src=\"./img/1/messi_bounds.png\" width=\"280\" />\n",
    "        <figcaption>Figure 2. Defining a <strong>Messi</strong> proposition and assigning it a truth value of <strong style=color:#0e6027>TRUE</strong> using bounds representation</figcaption>\n",
    " </figure>\n",
    "</center>\n",
    "\n",
    "There is a one-to-one mapping between classical facts and bounds, but a one-to-many mapping from non-classical facts to bounds. This relationship is expanded on in greater depth in [section F.2 of the LNN paper](https://arxiv.org/pdf/2006.13155.pdf). We demonstrate an example of a non-classical state below:"
   ]
  },
  {
   "cell_type": "code",
   "execution_count": 2,
   "id": "7a68dbf5-fef4-41d6-9aa9-b75b8572c577",
   "metadata": {},
   "outputs": [
    {
     "name": "stdout",
     "output_type": "stream",
     "text": [
      "OPEN Proposition: Rain                               APPROX_TRUE (0.7, 1.0)\n",
      "\n"
     ]
    }
   ],
   "source": [
    "from lnn import Proposition, Fact\n",
    "\n",
    "Rain = Proposition(\"Rain\")\n",
    "Rain.add_data((.7, 1.0))\n",
    "Rain.print()"
   ]
  },
  {
   "cell_type": "markdown",
   "id": "e638ab5a-393e-48de-a55d-8aa699bb0906",
   "metadata": {
    "tags": []
   },
   "source": [
    "### Inference with Bounds\n",
    "\n",
    "Recall in the [Propositional Logic](./0.%20Propositional%20Logic.ipynb) notebook, we discussed how to infer truth values of an operand/operator using omni-directional inference. Likewise, we will demonstrate how arbitrary bound values of an operand/operator are inferred using inference.\n",
    "\n",
    "#### Upward Inference"
   ]
  },
  {
   "cell_type": "code",
   "execution_count": 13,
   "id": "d1dbb8d9-9828-4f83-8594-0fbfb735adf8",
   "metadata": {},
   "outputs": [
    {
     "name": "stdout",
     "output_type": "stream",
     "text": [
      "OPEN And: (English Premier League ∧ Born in England)   APPROX_TRUE (0.7, 0.9)\n",
      "\n"
     ]
    }
   ],
   "source": [
    "from lnn import And, Fact\n",
    "\n",
    "# Rules\n",
    "EPL = Proposition(\"English Premier League\")\n",
    "BornInEngland = Proposition(\"Born in England\")\n",
    "AND = And(EPL, BornInEngland)\n",
    "\n",
    "# Data\n",
    "EPL.add_data((1.0, 1.0))\n",
    "BornInEngland.add_data((0.1, .4))\n",
    "\n",
    "# Reasoning\n",
    "AND.upward()\n",
    "AND.print()"
   ]
  },
  {
   "cell_type": "markdown",
   "id": "d69232b3-1fcd-459d-b0d2-a83f7f34d38c",
   "metadata": {},
   "source": [
    "The above example demonstrates that you can have an absolute belief that an individual plays in the English Premier league but a low confidence that the individual was born in England."
   ]
  },
  {
   "cell_type": "markdown",
   "id": "514d01f1-8c19-49c6-8dd7-e9defb545435",
   "metadata": {
    "tags": []
   },
   "source": [
    "#### Downward Inference"
   ]
  },
  {
   "cell_type": "code",
   "execution_count": 4,
   "id": "65a4996b-8045-455f-80ac-46a2e0b992cf",
   "metadata": {},
   "outputs": [
    {
     "name": "stdout",
     "output_type": "stream",
     "text": [
      "OPEN Proposition: Speaks Spanish                     APPROX_TRUE (0.85, 1.0)\n",
      "\n"
     ]
    }
   ],
   "source": [
    "from lnn import Implies\n",
    "\n",
    "# Rules\n",
    "BornInArgentina = Proposition(\"Born in Argentina\")\n",
    "SpeaksSpanish = Proposition(\"Speaks Spanish\")\n",
    "IMPLIES = Implies(BornInArgentina, SpeaksSpanish)\n",
    "\n",
    "# Data\n",
    "BornInArgentina.add_data((0.9, 1.0))\n",
    "IMPLIES.add_data((0.95, 1.0))\n",
    "\n",
    "# Reasoning\n",
    "IMPLIES.downward()\n",
    "SpeaksSpanish.print()"
   ]
  },
  {
   "cell_type": "markdown",
   "id": "15537442-4cef-46a3-93c5-f10cd6c71401",
   "metadata": {},
   "source": [
    "The example above demonstrates that you can have a strong (but not absolute) belief that all _Argentinians speak Spanish_, i.e. between $0.95$ and $1.0$. This can also be interpreted as a confidence in the belief: \"_We believe, with a confidence between 95-100%, that all Argentinians speak Spanish_\". This 5% uncertainty in the belief still caters for the semantics of absolute certainty, i.e., there may be other rules or facts present in the system that could cause our belief in the implication to collapse on the upper bound and become perfectly true, $[1.0, 1.0]$.\n",
    "\n",
    "A downward inference from the highly-confident antecedent (left-hand operand, `BornInArgentina`) onto the consequent (right-hand operand, `SpeaksSpanish`), results in a high confidence output belief, $[0.85, 1.0]$. The output truth values are calculated using an [implication in real-value logics](https://en.wikipedia.org/wiki/T-norm#Residua_of_prominent_left-continuous_t-norms), which we will expand on in future notebooks."
   ]
  },
  {
   "cell_type": "markdown",
   "id": "f3ce3e68-00d4-4c26-a215-a4f5ce348ac4",
   "metadata": {
    "pycharm": {
     "name": "#%% md\n"
    }
   },
   "source": [
    "### In Summary\n",
    "\n",
    "In this notebook we learned the following:\n",
    "- The LNN extension of classical truths to include real-values in the `[0, 1]` range.\n",
    "- The extension of individual truths to a range of truth semantics that are still consistent with the logic.\n",
    "- Representing truth values using a bounds representation.\n",
    "- Performing omni-directional inference with bounds.\n",
    "\n",
    "Congrats on completing the Propositional Bounds example 🎉. \n",
    "Next, we will learn about activation functions and how to perform learning to correct the parameters of an LNN model.\n",
    "\n",
    "[<img src=\"./img/next.png\" width=\"160\" alt=\"Next Tutorial: Propositional Learning\" />](./2.%20Propositional%20Learning.ipynb)"
   ]
  }
 ],
 "metadata": {
  "kernelspec": {
   "display_name": "Python 3 (ipykernel)",
   "language": "python",
   "name": "python3"
  },
  "language_info": {
   "codemirror_mode": {
    "name": "ipython",
    "version": 3
   },
   "file_extension": ".py",
   "mimetype": "text/x-python",
   "name": "python",
   "nbconvert_exporter": "python",
   "pygments_lexer": "ipython3",
   "version": "3.9.12"
  }
 },
 "nbformat": 4,
 "nbformat_minor": 5
}
